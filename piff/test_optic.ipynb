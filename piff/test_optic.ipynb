{
 "cells": [
  {
   "cell_type": "code",
   "execution_count": 1,
   "metadata": {},
   "outputs": [],
   "source": [
    "import numpy as np\n",
    "import pylab as plt\n",
    "import piff\n",
    "import cPickle\n",
    "import galsim\n",
    "import copy\n",
    "import coord\n",
    "from scipy import optimize\n",
    "%matplotlib inline "
   ]
  },
  {
   "cell_type": "code",
   "execution_count": 2,
   "metadata": {},
   "outputs": [],
   "source": [
    "stars = cPickle.load(open('../../janvier_2019/test_optique_des/490000.pkl'))\n",
    "stars = stars['stars']"
   ]
  },
  {
   "cell_type": "code",
   "execution_count": null,
   "metadata": {},
   "outputs": [],
   "source": [
    "OA = piff.OptAtmoPF(stars[0])\n",
    "OA.minimize(minuit=True)\n",
    "\n",
    "OAbis = piff.OptAtmoPF(stars[0])\n",
    "OAbis.minimize(minuit=False)\n",
    "\n"
   ]
  },
  {
   "cell_type": "code",
   "execution_count": null,
   "metadata": {},
   "outputs": [],
   "source": [
    "print OA.results\n",
    "print OAbis.results"
   ]
  },
  {
   "cell_type": "code",
   "execution_count": null,
   "metadata": {},
   "outputs": [],
   "source": [
    "plt.figure(figsize=(12,6))                                                                                  \n",
    "plt.subplots_adjust(right=0.95, left=0.05, wspace=0.3)                                                      \n",
    "plt.subplot(1,3,1)                                                                                          \n",
    "plt.imshow(OA.image.array, cmap=plt.cm.Greys_r)                                                           \n",
    "plt.gca().invert_yaxis()                                                                                    \n",
    "plt.colorbar()                                                                                              \n",
    "\n",
    "plt.subplot(1,3,2)                                                                                          \n",
    "plt.imshow(OA.image_model.array, cmap=plt.cm.Greys_r)                                                       \n",
    "plt.gca().invert_yaxis()                                                                                    \n",
    "plt.colorbar()                                                                                              \n",
    "\n",
    "plt.subplot(1,3,3)                                                                                          \n",
    "plt.imshow((OA.residuals / OA.image.array)*100, cmap=plt.cm.seismic, vmin=-1, vmax=1)                   \n",
    "plt.gca().invert_yaxis()                                                                                    \n",
    "plt.colorbar()\n",
    "\n",
    "print OA.chi2"
   ]
  },
  {
   "cell_type": "code",
   "execution_count": null,
   "metadata": {},
   "outputs": [],
   "source": [
    "plt.figure(figsize=(12,6))                                                                                  \n",
    "plt.subplots_adjust(right=0.95, left=0.05, wspace=0.3)                                                      \n",
    "plt.subplot(1,3,1)                                                                                          \n",
    "plt.imshow(OAbis.image.array, cmap=plt.cm.Greys_r)                                                           \n",
    "plt.gca().invert_yaxis()                                                                                    \n",
    "plt.colorbar()                                                                                              \n",
    "\n",
    "plt.subplot(1,3,2)                                                                                          \n",
    "plt.imshow(OAbis.image_model.array, cmap=plt.cm.Greys_r)                                                       \n",
    "plt.gca().invert_yaxis()                                                                                    \n",
    "plt.colorbar()                                                                                              \n",
    "\n",
    "plt.subplot(1,3,3)                                                                                          \n",
    "plt.imshow((OAbis.residuals / OAbis.image.array)*100, cmap=plt.cm.seismic, vmin=-1, vmax=1)                   \n",
    "plt.gca().invert_yaxis()                                                                                    \n",
    "plt.colorbar() \n",
    "\n",
    "print OAbis.chi2"
   ]
  },
  {
   "cell_type": "code",
   "execution_count": null,
   "metadata": {},
   "outputs": [],
   "source": [
    "params_minuit = []\n",
    "image_minuit = []\n",
    "chi2_minuit = []\n",
    "\n",
    "U = []#np.array([star.u for star in stars])\n",
    "V = []#np.array([star.v for star in stars])\n",
    "\n",
    "i = 0\n",
    "for star in stars:\n",
    "    print i+1\n",
    "    try:\n",
    "        OA = piff.OptAtmoPF(star)\n",
    "        OA.minimize(minuit=True)\n",
    "    \n",
    "        params_minuit.append(OA.results)\n",
    "        image_minuit.append(OA.image_model)\n",
    "        chi2_minuit.append(OA.chi2)\n",
    "        U.append(star.u)\n",
    "        V.append(star.v)\n",
    "        \n",
    "    except:\n",
    "        print \"failed\"\n",
    "    i+=1\n",
    "params_minuit = np.array(params_minuit)\n",
    "chi2_minuit = np.array(chi2_minuit)\n",
    "U = np.array(U)\n",
    "V = np.array(V)"
   ]
  },
  {
   "cell_type": "code",
   "execution_count": null,
   "metadata": {},
   "outputs": [],
   "source": [
    "plt.hist(chi2_minuit/ (len(OA.image_model.array)**2 -6),bins=np.linspace(0,2,30))\n",
    "reduce_chi2 = chi2_minuit/ (len(OA.image_model.array)**2 -6)"
   ]
  },
  {
   "cell_type": "code",
   "execution_count": null,
   "metadata": {},
   "outputs": [],
   "source": [
    "plt.figure(figsize=(10,8))\n",
    "plt.scatter(U,V, c=reduce_chi2, vmin=0, vmax=1.5, s=30, cmap = plt.cm.jet)\n",
    "plt.colorbar()"
   ]
  },
  {
   "cell_type": "code",
   "execution_count": null,
   "metadata": {},
   "outputs": [],
   "source": [
    "for i in range(6):\n",
    "    plt.figure()\n",
    "    plt.scatter(reduce_chi2, params_minuit[:,i],s=10)\n",
    "    plt.xlim(0,1.5)"
   ]
  },
  {
   "cell_type": "code",
   "execution_count": null,
   "metadata": {},
   "outputs": [],
   "source": [
    "plt.scatter(params_minuit[:,5], params_minuit[:,0],s=10)"
   ]
  },
  {
   "cell_type": "code",
   "execution_count": null,
   "metadata": {},
   "outputs": [],
   "source": [
    "N, x = np.histogram(params_minuit[:,5], bins=np.linspace(0,1700000, 20))\n",
    "y, x = np.histogram(params_minuit[:,5], bins=np.linspace(0,1700000, 20), weights=params_minuit[:,0])\n",
    "x = copy.deepcopy(x[:-1]) + (x[1] - x[0])/2."
   ]
  },
  {
   "cell_type": "code",
   "execution_count": null,
   "metadata": {},
   "outputs": [],
   "source": [
    "plt.scatter(x, y/N)"
   ]
  },
  {
   "cell_type": "code",
   "execution_count": null,
   "metadata": {},
   "outputs": [],
   "source": [
    "y/N"
   ]
  },
  {
   "cell_type": "code",
   "execution_count": null,
   "metadata": {},
   "outputs": [],
   "source": [
    "for i in range(6):\n",
    "    plt.figure(figsize=(10,8))\n",
    "    plt.scatter(U,V, c=params_minuit[:,i],s=30, vmin=np.mean(params_minuit[:,i])-2*np.std(params_minuit[:,i]), \n",
    "                vmax=np.mean(params_minuit[:,i])+2*np.std(params_minuit[:,i]), cmap = plt.cm.seismic)\n",
    "    plt.colorbar()\n"
   ]
  },
  {
   "cell_type": "code",
   "execution_count": null,
   "metadata": {},
   "outputs": [],
   "source": [
    "np.mean(params_minuit[:,0])"
   ]
  },
  {
   "cell_type": "code",
   "execution_count": null,
   "metadata": {},
   "outputs": [],
   "source": []
  }
 ],
 "metadata": {
  "kernelspec": {
   "display_name": "Python 2",
   "language": "python",
   "name": "python2"
  },
  "language_info": {
   "codemirror_mode": {
    "name": "ipython",
    "version": 2
   },
   "file_extension": ".py",
   "mimetype": "text/x-python",
   "name": "python",
   "nbconvert_exporter": "python",
   "pygments_lexer": "ipython2",
   "version": "2.7.15"
  }
 },
 "nbformat": 4,
 "nbformat_minor": 2
}
